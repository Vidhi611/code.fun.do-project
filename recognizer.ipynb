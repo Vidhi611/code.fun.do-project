{
 "cells": [
  {
   "cell_type": "code",
   "execution_count": 1,
   "metadata": {},
   "outputs": [
    {
     "name": "stderr",
     "output_type": "stream",
     "text": [
      "/home/sharanya/anaconda2/envs/tensorflow/lib/python2.7/site-packages/h5py/__init__.py:36: FutureWarning: Conversion of the second argument of issubdtype from `float` to `np.floating` is deprecated. In future, it will be treated as `np.float64 == np.dtype(float).type`.\n",
      "  from ._conv import register_converters as _register_converters\n"
     ]
    }
   ],
   "source": [
    "import numpy as np\n",
    "import tensorflow as tf\n",
    "import matplotlib.pyplot as plt\n",
    "from mpl_toolkits.axes_grid1 import ImageGrid\n",
    "from tensorflow.examples.tutorials.mnist import input_data\n",
    "%matplotlib inline"
   ]
  },
  {
   "cell_type": "code",
   "execution_count": 2,
   "metadata": {},
   "outputs": [
    {
     "name": "stdout",
     "output_type": "stream",
     "text": [
      "Extracting MNIST_data/train-images-idx3-ubyte.gz\n",
      "Extracting MNIST_data/train-labels-idx1-ubyte.gz\n",
      "Extracting MNIST_data/t10k-images-idx3-ubyte.gz\n",
      "Extracting MNIST_data/t10k-labels-idx1-ubyte.gz\n"
     ]
    }
   ],
   "source": [
    "mnist = input_data.read_data_sets('MNIST_data', one_hot=True)\n",
    "image_pixels = 28\n",
    "kernel = 5"
   ]
  },
  {
   "cell_type": "code",
   "execution_count": 3,
   "metadata": {},
   "outputs": [],
   "source": [
    "sess = tf.InteractiveSession()"
   ]
  },
  {
   "cell_type": "code",
   "execution_count": 4,
   "metadata": {},
   "outputs": [],
   "source": [
    "def weight_initialise(shape):\n",
    "    value = tf.truncated_normal(shape, stddev=0.1)\n",
    "    return tf.Variable(value)\n",
    "\n",
    "def bias_initialise(shape):\n",
    "    value = tf.constant(0.1, shape=shape)\n",
    "    return tf.Variable(value)\n"
   ]
  },
  {
   "cell_type": "code",
   "execution_count": 5,
   "metadata": {},
   "outputs": [],
   "source": [
    "x = tf.placeholder(tf.float32, shape=[None, 784])\n",
    "targets = tf.placeholder(tf.float32, shape=[None, 10])"
   ]
  },
  {
   "cell_type": "code",
   "execution_count": 6,
   "metadata": {},
   "outputs": [],
   "source": [
    "#cnn\n",
    "input_layer = tf.reshape(x, [-1, image_pixels, image_pixels, 1])\n",
    "\n",
    "params_conv1 = weight_initialise([kernel, kernel, 1, 32])\n",
    "bias_conv1 = bias_initialise([32])\n",
    "output_conv1 = tf.nn.relu(tf.nn.conv2d(input_layer, params_conv1, strides=[1, 1, 1, 1], padding='SAME')+bias_conv1)\n",
    "pool_conv1 = tf.nn.max_pool(output_conv1, ksize=[1, 2, 2, 1], strides=[1, 2, 2, 1], padding='SAME')\n",
    "\n",
    "params_conv2 = weight_initialise([kernel, kernel, 32, 64])\n",
    "bias_conv2 = bias_initialise([64])\n",
    "output_conv2 = tf.nn.relu(tf.nn.conv2d(pool_conv1, params_conv2, strides=[1, 1, 1, 1], padding='SAME')+bias_conv2)\n",
    "pool_conv2 = tf.nn.max_pool(output_conv2, ksize=[1, 2, 2, 1], strides=[1, 2, 2, 1], padding='SAME')\n",
    "\n",
    "params_fc1 = weight_initialise([7*7*64, 1024])\n",
    "bias_fc1 = bias_initialise([1024])\n",
    "\n",
    "pool_conv2_flat = tf.reshape(pool_conv2, [-1, 7*7*64])\n",
    "\n",
    "output_fc1 = tf.nn.relu(tf.matmul(pool_conv2_flat, params_fc1) + bias_fc1)\n",
    "\n",
    "keep_prob = tf.placeholder(tf.float32)\n",
    "dropout = tf.nn.dropout(output_fc1, keep_prob)\n",
    "\n",
    "params_fc2 = weight_initialise([1024, 10])\n",
    "bias_fc2 = bias_initialise([10])\n",
    "y_conv = tf.matmul(dropout, params_fc2) + bias_fc2"
   ]
  },
  {
   "cell_type": "code",
   "execution_count": 7,
   "metadata": {},
   "outputs": [],
   "source": [
    "y = tf.nn.softmax(y_conv)"
   ]
  },
  {
   "cell_type": "code",
   "execution_count": 10,
   "metadata": {},
   "outputs": [],
   "source": [
    "# Loss and optimizer\n",
    "cross_entropy = tf.nn.softmax_cross_entropy_with_logits_v2(labels=targets, logits=y_conv)\n",
    "cross_entropy = tf.reduce_mean(cross_entropy)\n",
    "train = tf.train.AdamOptimizer(0.0001).minimize(cross_entropy)"
   ]
  },
  {
   "cell_type": "code",
   "execution_count": 11,
   "metadata": {},
   "outputs": [],
   "source": [
    "correct_prediction = tf.equal(tf.argmax(y_conv,1), tf.argmax(targets,1))\n",
    "accuracy = tf.reduce_mean(tf.cast(correct_prediction, tf.float32))"
   ]
  },
  {
   "cell_type": "code",
   "execution_count": 12,
   "metadata": {},
   "outputs": [],
   "source": [
    "sess.run(tf.global_variables_initializer())"
   ]
  },
  {
   "cell_type": "code",
   "execution_count": 13,
   "metadata": {},
   "outputs": [
    {
     "name": "stdout",
     "output_type": "stream",
     "text": [
      "step 0, training accuracy 0.11\n",
      "step 200, training accuracy 0.97\n",
      "step 400, training accuracy 0.92\n",
      "step 600, training accuracy 0.93\n",
      "step 800, training accuracy 0.97\n"
     ]
    }
   ],
   "source": [
    "# Train model\n",
    "for i in range(1000):\n",
    "    batch_x, batch_y = mnist.train.next_batch(100)\n",
    "    if i%200 == 0:\n",
    "        train_accuracy = accuracy.eval(feed_dict={x:batch_x, targets: batch_y, keep_prob: 1.0})\n",
    "        print(\"step %d, training accuracy %g\"%(i, train_accuracy))\n",
    "\n",
    "    train.run(feed_dict={x: batch_x, targets: batch_y, keep_prob: 0.5})"
   ]
  },
  {
   "cell_type": "code",
   "execution_count": 14,
   "metadata": {},
   "outputs": [],
   "source": [
    "# Test model\n",
    "#print(\"test accuracy %g\"%accuracy.eval(feed_dict={x: mnist.test.images[0:500], targets: mnist.test.labels[0:500], keep_prob: 1.0}))"
   ]
  },
  {
   "cell_type": "code",
   "execution_count": 41,
   "metadata": {},
   "outputs": [],
   "source": [
    "def plot_prediction(image_list):\n",
    "   \n",
    "    prob = y.eval(feed_dict={x: image_list, keep_prob: 1.0})\n",
    "    \n",
    "    pred = np.zeros(len(image_list)).astype(int)\n",
    "    perc = np.zeros(len(image_list)).astype(int)\n",
    "    \n",
    "    import math\n",
    "    cols = 1\n",
    "    rows = math.ceil(image_list.shape[0]/cols)\n",
    "    fig = plt.figure(1, (12., 12.))\n",
    "    grid = ImageGrid(fig, 111, nrows_ncols=(1, 1), axes_pad=2)\n",
    "    \n",
    "    for i in range(len(prob)):\n",
    "        pred[i] = np.argmax(prob[i]) \n",
    "        perc[i] = prob[i][pred[i]] * 100\n",
    "\n",
    "        image = image_list[i].reshape(28,28)\n",
    "        grid[i].imshow(image)\n",
    "        \n",
    "        grid[i].set_title('Prediction: {0} \\nCertainty: {1}%' \\\n",
    "                          .format(pred[i], \n",
    "                                  perc[i]))\n",
    "    plt.show()\n",
    "    \n",
    "    return prob "
   ]
  },
  {
   "cell_type": "code",
   "execution_count": 42,
   "metadata": {},
   "outputs": [],
   "source": [
    "def recognize_image(x_image, n_steps=1):\n",
    "    \n",
    "    original_image = x_image\n",
    "    probs_per_step = [] \n",
    "    \n",
    "    for i in range(n_steps):\n",
    "        img_adv_list = original_image\n",
    "        probs = plot_prediction(img_adv_list)\n",
    "        probs_per_step.append(probs) "
   ]
  },
  {
   "cell_type": "code",
   "execution_count": 75,
   "metadata": {},
   "outputs": [],
   "source": [
    "#taking a image as input from computer\n",
    "import cv2\n",
    "image_normal = cv2.imread('/home/sharanya/Github/Adversarial-Image-Processing/one.png', )\n",
    "image_normal=image_normal.reshape(28,28)\n",
    "image_normal= np.reshape(image_normal, (1, 784))\n"
   ]
  },
  {
   "cell_type": "code",
   "execution_count": 76,
   "metadata": {},
   "outputs": [
    {
     "data": {
      "image/png": "[encoded data removed]",
      "text/plain": [
       "<Figure size 864x864 with 2 Axes>"
      ]
     },
     "metadata": {},
     "output_type": "display_data"
    }
   ],
   "source": [
    "# recognize image\n",
    "recognize_image(image_normal, n_steps=1)"
   ]
  },
  {
   "cell_type": "code",
   "execution_count": null,
   "metadata": {},
   "outputs": [],
   "source": []
  }
 ],
 "metadata": {
  "kernelspec": {
   "display_name": "Python 2",
   "language": "python",
   "name": "python2"
  },
  "language_info": {
   "codemirror_mode": {
    "name": "ipython",
    "version": 2
   },
   "file_extension": ".py",
   "mimetype": "text/x-python",
   "name": "python",
   "nbconvert_exporter": "python",
   "pygments_lexer": "ipython2",
   "version": "2.7.14"
  }
 },
 "nbformat": 4,
 "nbformat_minor": 2
}
